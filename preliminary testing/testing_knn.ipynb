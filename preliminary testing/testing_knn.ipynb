{
 "cells": [
  {
   "cell_type": "code",
   "execution_count": 19,
   "id": "2d2e726f-96e5-4a51-9a7a-f6b5133be380",
   "metadata": {
    "scrolled": true
   },
   "outputs": [],
   "source": [
    "library(tidyverse)\n",
    "library(tidymodels)\n",
    "library(hms)"
   ]
  },
  {
   "cell_type": "code",
   "execution_count": 20,
   "id": "2a5e68b5-58c1-4f53-bb08-7cc0c6bc88e3",
   "metadata": {},
   "outputs": [
    {
     "name": "stderr",
     "output_type": "stream",
     "text": [
      "\u001b[1mRows: \u001b[22m\u001b[34m249013\u001b[39m \u001b[1mColumns: \u001b[22m\u001b[34m2\u001b[39m\n",
      "\u001b[36m──\u001b[39m \u001b[1mColumn specification\u001b[22m \u001b[36m────────────────────────────────────────────────────────\u001b[39m\n",
      "\u001b[1mDelimiter:\u001b[22m \",\"\n",
      "\u001b[32mdbl\u001b[39m  (1): player_count\n",
      "\u001b[34mdttm\u001b[39m (1): tinterval\n",
      "\n",
      "\u001b[36mℹ\u001b[39m Use `spec()` to retrieve the full column specification for this data.\n",
      "\u001b[36mℹ\u001b[39m Specify the column types or set `show_col_types = FALSE` to quiet this message.\n"
     ]
    }
   ],
   "source": [
    "session_df_by_minute_in_minute <- read_csv(\"session_df_by_minute.csv\")|>\n",
    "    mutate(hms = as_hms(tinterval))|>\n",
    "    mutate(as_minutes = 60*hour(hms)+minute(hms))|>\n",
    "    mutate(minutes = minute(hms))|>\n",
    "    filter(minutes == 0 | minutes == 10| minutes == 20|minutes == 30| minutes == 40| minutes == 50)|>\n",
    "    select(as_minutes, player_count)"
   ]
  },
  {
   "cell_type": "code",
   "execution_count": 21,
   "id": "e6c30d31-4730-47b6-98c6-6fecd423c8b9",
   "metadata": {},
   "outputs": [],
   "source": [
    "set.seed(69420)\n",
    "\n",
    "sessions_split <- initial_split( session_df_by_minute_in_minute , prop = 0.6 , strata = player_count)\n",
    "sessions_training <- training(sessions_split)\n",
    "sessions_testing <- testing(sessions_split)\n",
    "\n",
    "sessions_spec <- nearest_neighbor(weight_func = \"rectangular\" , neighbors = tune()) |> \n",
    "      set_engine(\"kknn\") |>\n",
    "      set_mode(\"regression\")\n",
    "\n",
    "sessions_recipe <- recipe( player_count ~ as_minutes, data = sessions_training) |>\n",
    "   step_scale(all_predictors()) |>\n",
    "   step_center(all_predictors())\n",
    "\n",
    "sessions_workflow <- workflow() |>\n",
    "      add_recipe(sessions_recipe) |>\n",
    "      add_model(sessions_spec)\n",
    "\n"
   ]
  },
  {
   "cell_type": "code",
   "execution_count": 27,
   "id": "df90aaed-a0bd-492d-8561-59666226acad",
   "metadata": {},
   "outputs": [],
   "source": [
    "sessions_vfold <- vfold_cv(sessions_training, v = 5, strata = player_count)\n",
    "\n",
    "gridvals <- tibble(neighbors = seq(1,200, by=1))\n",
    "\n",
    "training_results <- sessions_workflow |>\n",
    "                       tune_grid(resamples = sessions_vfold, grid = gridvals) |>\n",
    "                       collect_metrics() \n",
    "\n",
    "\n",
    "\n",
    "training_min <- training_results |>\n",
    "               filter(.metric == 'rmse') |>\n",
    "               filter(mean == min(mean)) |>\n",
    "            select( neighbors)|>\n",
    "            pull()"
   ]
  },
  {
   "cell_type": "code",
   "execution_count": 28,
   "id": "9bed1e8a-75ee-44f3-b3b4-b0fb068fe816",
   "metadata": {},
   "outputs": [],
   "source": [
    "session_best_spec <- nearest_neighbor(weight_func = \"rectangular\", neighbors = training_min) |>\n",
    "                  set_engine(\"kknn\") |>\n",
    "                  set_mode(\"regression\")\n",
    "\n",
    "session_fit <- workflow() |>\n",
    "           add_recipe(sessions_recipe) |>\n",
    "           add_model(session_best_spec) |>\n",
    "           fit(data = sessions_training)"
   ]
  },
  {
   "cell_type": "code",
   "execution_count": 35,
   "id": "f80e2ebf-87c7-4619-8977-a297ac2cf3c1",
   "metadata": {},
   "outputs": [],
   "source": [
    "session_summary <- session_fit |> \n",
    "           predict(sessions_testing) |>\n",
    "           bind_cols(sessions_testing) |>\n",
    "           metrics(truth = player_count, estimate = .pred) "
   ]
  },
  {
   "cell_type": "code",
   "execution_count": 36,
   "id": "0559b413-2991-41ad-a31d-4e6389caf974",
   "metadata": {},
   "outputs": [
    {
     "data": {
      "text/html": [
       "<table class=\"dataframe\">\n",
       "<caption>A tibble: 3 × 3</caption>\n",
       "<thead>\n",
       "\t<tr><th scope=col>.metric</th><th scope=col>.estimator</th><th scope=col>.estimate</th></tr>\n",
       "\t<tr><th scope=col>&lt;chr&gt;</th><th scope=col>&lt;chr&gt;</th><th scope=col>&lt;dbl&gt;</th></tr>\n",
       "</thead>\n",
       "<tbody>\n",
       "\t<tr><td>rmse</td><td>standard</td><td>0.6603468</td></tr>\n",
       "\t<tr><td>rsq </td><td>standard</td><td>0.1184708</td></tr>\n",
       "\t<tr><td>mae </td><td>standard</td><td>0.4233886</td></tr>\n",
       "</tbody>\n",
       "</table>\n"
      ],
      "text/latex": [
       "A tibble: 3 × 3\n",
       "\\begin{tabular}{lll}\n",
       " .metric & .estimator & .estimate\\\\\n",
       " <chr> & <chr> & <dbl>\\\\\n",
       "\\hline\n",
       "\t rmse & standard & 0.6603468\\\\\n",
       "\t rsq  & standard & 0.1184708\\\\\n",
       "\t mae  & standard & 0.4233886\\\\\n",
       "\\end{tabular}\n"
      ],
      "text/markdown": [
       "\n",
       "A tibble: 3 × 3\n",
       "\n",
       "| .metric &lt;chr&gt; | .estimator &lt;chr&gt; | .estimate &lt;dbl&gt; |\n",
       "|---|---|---|\n",
       "| rmse | standard | 0.6603468 |\n",
       "| rsq  | standard | 0.1184708 |\n",
       "| mae  | standard | 0.4233886 |\n",
       "\n"
      ],
      "text/plain": [
       "  .metric .estimator .estimate\n",
       "1 rmse    standard   0.6603468\n",
       "2 rsq     standard   0.1184708\n",
       "3 mae     standard   0.4233886"
      ]
     },
     "metadata": {},
     "output_type": "display_data"
    }
   ],
   "source": [
    "session_summary"
   ]
  },
  {
   "cell_type": "code",
   "execution_count": 37,
   "id": "a90f1a8a-5dd6-4a88-95cd-1ca5486a84f0",
   "metadata": {},
   "outputs": [],
   "source": [
    "time_prediction <- session_fit |> \n",
    "           predict(sessions_testing) |>\n",
    "           bind_cols(sessions_testing)|>\n",
    "            select( as_minutes, .pred)\n",
    "\n",
    "plot_time_prediction"
   ]
  },
  {
   "cell_type": "code",
   "execution_count": null,
   "id": "8853cbd7-2c99-45e9-9ce5-53bbd81ee94a",
   "metadata": {},
   "outputs": [],
   "source": [
    "Methods and Plan"
   ]
  },
  {
   "cell_type": "markdown",
   "id": "56113062-3462-4720-b553-caeba61b5f8a",
   "metadata": {},
   "source": [
    "Why is this method appropriate?\n",
    "\n",
    "Which assumptions are required, if any, to apply the method selected?\n",
    "\n",
    "What are the potential limitations or weaknesses of the method selected?\n",
    "\n",
    "How are you going to compare and select the model?\n",
    "\n",
    "How are you going to process the data to apply the model? For example: Are you splitting the data? How? How many splits? What proportions will you use for the splits? At what stage will you split? Will there be a validation set? Will you use cross validation?\n"
   ]
  },
  {
   "cell_type": "code",
   "execution_count": null,
   "id": "4313710e-ff61-41ba-8eb3-a8cc05366aa7",
   "metadata": {},
   "outputs": [],
   "source": []
  }
 ],
 "metadata": {
  "kernelspec": {
   "display_name": "R",
   "language": "R",
   "name": "ir"
  },
  "language_info": {
   "codemirror_mode": "r",
   "file_extension": ".r",
   "mimetype": "text/x-r-source",
   "name": "R",
   "pygments_lexer": "r",
   "version": "4.3.3"
  }
 },
 "nbformat": 4,
 "nbformat_minor": 5
}
