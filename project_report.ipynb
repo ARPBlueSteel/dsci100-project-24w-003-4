{
 "cells": [
  {
   "cell_type": "markdown",
   "id": "2c8d556b-85d2-486e-b6e7-a9eb2f905c49",
   "metadata": {},
   "source": [
    "# Title"
   ]
  },
  {
   "cell_type": "markdown",
   "id": "549cc00d-6d5a-4122-9933-32a02aaf87a3",
   "metadata": {},
   "source": [
    "## Introduction"
   ]
  },
  {
   "cell_type": "markdown",
   "id": "e6dde61f-93e3-4bfc-8cbe-a44632986611",
   "metadata": {},
   "source": []
  },
  {
   "cell_type": "markdown",
   "id": "1dfa98c2-72e3-48ad-9574-42e03c2249dd",
   "metadata": {},
   "source": []
  },
  {
   "cell_type": "markdown",
   "id": "6408b101-fba9-49ce-8aed-cde6974ffeb0",
   "metadata": {},
   "source": [
    "### Dataset Description\n",
    "\n",
    "\n",
    "\n",
    "\n",
    "`sessions.csv` contains a list of all playing sessions from April 6 2024 to September 26 2024. There are 1535 observations representing 1535 playing sessions. There are 5 variables:\n",
    "- `hashedEmail`(Character): The email that the player inputted when registering. This hashed email can help associated user information on `players.csv`\n",
    "- `start_time`(Character): The start time of the session, in the format dd/mm/yyyy hh:ss \n",
    "- `end_time`(Character): The end time of the session, in the format dd/mm/yyyy hh:ss \n",
    "- `original_start_time`(Double): The Unix time of the beginning of the playing session, measured in seconds and to 6 significant figures of precision ($\\pm$ 115 days).\n",
    "- `original_end_time`(Double): The Unix time of the beginning of the playing session, measured in seconds and to 6 significant figures of precision ($\\pm$ 115 days).\n",
    "\n"
   ]
  },
  {
   "cell_type": "markdown",
   "id": "86909693-2f50-413c-9c9e-aa3ab16fff10",
   "metadata": {},
   "source": [
    "## Methods & Results"
   ]
  },
  {
   "cell_type": "markdown",
   "id": "cc76ecaa-4352-467f-b28f-852da7861f84",
   "metadata": {},
   "source": []
  },
  {
   "cell_type": "markdown",
   "id": "a319d996-91aa-4770-91e1-877de97a8110",
   "metadata": {},
   "source": [
    "## Discussion"
   ]
  },
  {
   "cell_type": "markdown",
   "id": "f1dd81f9-f209-4f7f-b669-5b5348d74d66",
   "metadata": {},
   "source": []
  },
  {
   "cell_type": "markdown",
   "id": "66e8841b-329e-4a19-820d-da9d1aab4810",
   "metadata": {},
   "source": [
    "## References"
   ]
  },
  {
   "cell_type": "markdown",
   "id": "a48e7c45-711c-4841-b543-b4f9769fcb15",
   "metadata": {},
   "source": []
  }
 ],
 "metadata": {
  "kernelspec": {
   "display_name": "R",
   "language": "R",
   "name": "ir"
  },
  "language_info": {
   "codemirror_mode": "r",
   "file_extension": ".r",
   "mimetype": "text/x-r-source",
   "name": "R",
   "pygments_lexer": "r",
   "version": "4.3.3"
  }
 },
 "nbformat": 4,
 "nbformat_minor": 5
}
