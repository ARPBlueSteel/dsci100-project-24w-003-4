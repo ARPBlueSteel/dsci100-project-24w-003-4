{
 "cells": [
  {
   "cell_type": "markdown",
   "id": "86d2820e-8551-4b85-b87e-9f905b22e6ad",
   "metadata": {},
   "source": [
    "# Forecasting Concurrent Users of PlaiCraft Minecraft Server "
   ]
  },
  {
   "cell_type": "markdown",
   "id": "549cc00d-6d5a-4122-9933-32a02aaf87a3",
   "metadata": {},
   "source": [
    "## Introduction"
   ]
  },
  {
   "cell_type": "markdown",
   "id": "9845fc17-dde1-4cd0-b65e-44590a52fff1",
   "metadata": {},
   "source": [
    "### Relevant backgroud information:\n",
    "\n",
    "PlaiCraft is a Minecraft server that merges the relms of the popular videogame Minecraft and AI research; they collect data to train and better its model programming. As participants of the research and DSCI 100 students, two varying data sets collected from previous participants were provided to us. In this project, we will utilize the knowledge and skills  we learned from this course as students in a real-world application. Upon analysis of the data sets, the following research question poses paths for conceptual application.\n",
    "\n",
    "  "
   ]
  },
  {
   "cell_type": "markdown",
   "id": "e6dde61f-93e3-4bfc-8cbe-a44632986611",
   "metadata": {},
   "source": [
    "### Research Question: \n",
    "Can the week and the time of day be used to accrately predict the number of concurrent players online using KNN regression?"
   ]
  },
  {
   "cell_type": "markdown",
   "id": "6408b101-fba9-49ce-8aed-cde6974ffeb0",
   "metadata": {},
   "source": [
    "### Dataset Description\n",
    "\n",
    "\n",
    "\n",
    "`sessions.csv` contains a list of all playing sessions from April 6 2024 to September 26 2024. There are 1535 observations representing 1535 playing sessions. There are 5 variables:\n",
    "- `hashedEmail`(Character): The email that the player inputted when registering. This hashed email can help associated user information on `players.csv`\n",
    "- `start_time`(Character): The start time of the session, in the format dd/mm/yyyy hh:ss \n",
    "- `end_time`(Character): The end time of the session, in the format dd/mm/yyyy hh:ss \n",
    "- `original_start_time`(Double): The Unix time of the beginning of the playing session, measured in seconds and to 6 significant figures of precision ($\\pm$ 115 days).\n",
    "- `original_end_time`(Double): The Unix time of the beginning of the playing session, measured in seconds and to 6 significant figures of precision ($\\pm$ 115 days).\n",
    "\n"
   ]
  },
  {
   "cell_type": "markdown",
   "id": "86909693-2f50-413c-9c9e-aa3ab16fff10",
   "metadata": {},
   "source": [
    "## Methods & Results\n",
    "\n",
    "describe the methods you used to perform your analysis from beginning to end that narrates the analysis code.\n",
    "your report should include code which:\n",
    "\n",
    "- loads data \n",
    "\n",
    "- wrangles and cleans the data to the format necessary for the planned analysis\n",
    "\n",
    "- performs a summary of the data set that is relevant for exploratory data analysis related to the planned analysis\n",
    "\n",
    "- creates a visualization of the dataset that is relevant for exploratory data analysis related to the planned analysis\n",
    "\n",
    "- performs the data analysis\n",
    "\n",
    "- creates a visualization of the analysis \n",
    "## note: all figures should have a figure number and a legend!!!!\n"
   ]
  },
  {
   "cell_type": "markdown",
   "id": "cc76ecaa-4352-467f-b28f-852da7861f84",
   "metadata": {},
   "source": [
    "Loading"
   ]
  },
  {
   "cell_type": "code",
   "execution_count": 2,
   "id": "ff21f5a3-9a42-4713-a6ac-053c8d903df3",
   "metadata": {},
   "outputs": [
    {
     "name": "stderr",
     "output_type": "stream",
     "text": [
      "── \u001b[1mAttaching core tidyverse packages\u001b[22m ──────────────────────── tidyverse 2.0.0 ──\n",
      "\u001b[32m✔\u001b[39m \u001b[34mdplyr    \u001b[39m 1.1.4     \u001b[32m✔\u001b[39m \u001b[34mreadr    \u001b[39m 2.1.5\n",
      "\u001b[32m✔\u001b[39m \u001b[34mforcats  \u001b[39m 1.0.0     \u001b[32m✔\u001b[39m \u001b[34mstringr  \u001b[39m 1.5.1\n",
      "\u001b[32m✔\u001b[39m \u001b[34mggplot2  \u001b[39m 3.5.1     \u001b[32m✔\u001b[39m \u001b[34mtibble   \u001b[39m 3.2.1\n",
      "\u001b[32m✔\u001b[39m \u001b[34mlubridate\u001b[39m 1.9.3     \u001b[32m✔\u001b[39m \u001b[34mtidyr    \u001b[39m 1.3.1\n",
      "\u001b[32m✔\u001b[39m \u001b[34mpurrr    \u001b[39m 1.0.2     \n",
      "── \u001b[1mConflicts\u001b[22m ────────────────────────────────────────── tidyverse_conflicts() ──\n",
      "\u001b[31m✖\u001b[39m \u001b[34mdplyr\u001b[39m::\u001b[32mfilter()\u001b[39m masks \u001b[34mstats\u001b[39m::filter()\n",
      "\u001b[31m✖\u001b[39m \u001b[34mdplyr\u001b[39m::\u001b[32mlag()\u001b[39m    masks \u001b[34mstats\u001b[39m::lag()\n",
      "\u001b[36mℹ\u001b[39m Use the conflicted package (\u001b[3m\u001b[34m<http://conflicted.r-lib.org/>\u001b[39m\u001b[23m) to force all conflicts to become errors\n",
      "── \u001b[1mAttaching packages\u001b[22m ────────────────────────────────────── tidymodels 1.1.1 ──\n",
      "\n",
      "\u001b[32m✔\u001b[39m \u001b[34mbroom       \u001b[39m 1.0.6     \u001b[32m✔\u001b[39m \u001b[34mrsample     \u001b[39m 1.2.1\n",
      "\u001b[32m✔\u001b[39m \u001b[34mdials       \u001b[39m 1.3.0     \u001b[32m✔\u001b[39m \u001b[34mtune        \u001b[39m 1.1.2\n",
      "\u001b[32m✔\u001b[39m \u001b[34minfer       \u001b[39m 1.0.7     \u001b[32m✔\u001b[39m \u001b[34mworkflows   \u001b[39m 1.1.4\n",
      "\u001b[32m✔\u001b[39m \u001b[34mmodeldata   \u001b[39m 1.4.0     \u001b[32m✔\u001b[39m \u001b[34mworkflowsets\u001b[39m 1.0.1\n",
      "\u001b[32m✔\u001b[39m \u001b[34mparsnip     \u001b[39m 1.2.1     \u001b[32m✔\u001b[39m \u001b[34myardstick   \u001b[39m 1.3.1\n",
      "\u001b[32m✔\u001b[39m \u001b[34mrecipes     \u001b[39m 1.1.0     \n",
      "\n",
      "── \u001b[1mConflicts\u001b[22m ───────────────────────────────────────── tidymodels_conflicts() ──\n",
      "\u001b[31m✖\u001b[39m \u001b[34mscales\u001b[39m::\u001b[32mdiscard()\u001b[39m masks \u001b[34mpurrr\u001b[39m::discard()\n",
      "\u001b[31m✖\u001b[39m \u001b[34mdplyr\u001b[39m::\u001b[32mfilter()\u001b[39m   masks \u001b[34mstats\u001b[39m::filter()\n",
      "\u001b[31m✖\u001b[39m \u001b[34mrecipes\u001b[39m::\u001b[32mfixed()\u001b[39m  masks \u001b[34mstringr\u001b[39m::fixed()\n",
      "\u001b[31m✖\u001b[39m \u001b[34mdplyr\u001b[39m::\u001b[32mlag()\u001b[39m      masks \u001b[34mstats\u001b[39m::lag()\n",
      "\u001b[31m✖\u001b[39m \u001b[34myardstick\u001b[39m::\u001b[32mspec()\u001b[39m masks \u001b[34mreadr\u001b[39m::spec()\n",
      "\u001b[31m✖\u001b[39m \u001b[34mrecipes\u001b[39m::\u001b[32mstep()\u001b[39m   masks \u001b[34mstats\u001b[39m::step()\n",
      "\u001b[34m•\u001b[39m Learn how to get started at \u001b[32mhttps://www.tidymodels.org/start/\u001b[39m\n",
      "\n",
      "\n",
      "Attaching package: ‘hms’\n",
      "\n",
      "\n",
      "The following object is masked from ‘package:lubridate’:\n",
      "\n",
      "    hms\n",
      "\n",
      "\n",
      "\u001b[1mRows: \u001b[22m\u001b[34m1535\u001b[39m \u001b[1mColumns: \u001b[22m\u001b[34m5\u001b[39m\n",
      "\u001b[36m──\u001b[39m \u001b[1mColumn specification\u001b[22m \u001b[36m────────────────────────────────────────────────────────\u001b[39m\n",
      "\u001b[1mDelimiter:\u001b[22m \",\"\n",
      "\u001b[31mchr\u001b[39m (3): hashedEmail, start_time, end_time\n",
      "\u001b[32mdbl\u001b[39m (2): original_start_time, original_end_time\n",
      "\n",
      "\u001b[36mℹ\u001b[39m Use `spec()` to retrieve the full column specification for this data.\n",
      "\u001b[36mℹ\u001b[39m Specify the column types or set `show_col_types = FALSE` to quiet this message.\n"
     ]
    }
   ],
   "source": [
    "library(tidyverse)\n",
    "library(tidymodels)\n",
    "library(hms)\n",
    "\n",
    "url <- \"https://drive.google.com/uc?export=download&id=14O91N5OlVkvdGxXNJUj5jIsV5RexhzbB\" # url for download of session.csv\n",
    "sessions_df <- read_csv(url)"
   ]
  },
  {
   "cell_type": "markdown",
   "id": "5ac457de-ebb4-4511-aaf4-634c319005ed",
   "metadata": {},
   "source": [
    "Wrangling"
   ]
  },
  {
   "cell_type": "code",
   "execution_count": null,
   "id": "c5af44b3-6e5d-49fc-bfd2-ab0a6edb8083",
   "metadata": {},
   "outputs": [],
   "source": [
    "sessions_df_start_time_end_time <- sessions_df|>\n",
    "    mutate(start_time = with_tz(as_datetime(dmy_hm(start_time )), tz = \"America/Vancouver\"))|>\n",
    "    mutate(end_time = with_tz(as_datetime(dmy_hm(end_time)), tz = \"America/Vancouver\"))|>\n",
    "    select(start_time, end_time)|>\n",
    "    arrange(start_time)|>\n",
    "    drop_na()"
   ]
  },
  {
   "cell_type": "markdown",
   "id": "81c5ef2b-1357-4a07-9de0-b33e822b4775",
   "metadata": {},
   "source": [
    "Summary"
   ]
  },
  {
   "cell_type": "code",
   "execution_count": null,
   "id": "52de059e-74c6-4b0f-a1dd-106be1484d46",
   "metadata": {},
   "outputs": [],
   "source": [
    "start.min <- min(sessions_df_start_time_end_time$start_time, na.rm=T)\n",
    "end.max <- max(sessions_df_start_time_end_time$end_time, na.rm=T)\n",
    "tinterval <- seq.POSIXt(start.min, end.max, by = \"mins\")"
   ]
  },
  {
   "cell_type": "code",
   "execution_count": null,
   "id": "17d80c6b-0442-456d-b051-0cdda40d5359",
   "metadata": {},
   "outputs": [],
   "source": [
    "player_count <- sapply(tinterval, function(tt) sum(sessions_df_start_time_end_time$start_time <= tt & tt <= sessions_df_start_time_end_time$end_time))"
   ]
  },
  {
   "cell_type": "code",
   "execution_count": null,
   "id": "92fd2bcf-b9de-4355-ab36-a5b543808dd4",
   "metadata": {},
   "outputs": [],
   "source": [
    "session_df_by_minute <- data.frame(tinterval, player_count)|>\n",
    "        filter(minute(tinterval) == 0 | minute(tinterval) == 30 )|>\n",
    "        mutate(wday = wday(tinterval))|>\n",
    "        mutate(as_minutes = 60*hour(tinterval)+minute(tinterval))\n",
    "session_df_by_minute"
   ]
  },
  {
   "cell_type": "markdown",
   "id": "dec1a6b8-903c-4972-9aa1-84c2c34bc296",
   "metadata": {},
   "source": [
    "Visulization of Summary"
   ]
  },
  {
   "cell_type": "code",
   "execution_count": null,
   "id": "16660d6e-6e50-40e3-a598-69d29707671e",
   "metadata": {},
   "outputs": [],
   "source": []
  },
  {
   "cell_type": "markdown",
   "id": "3d8ed104-2627-4200-be32-c8dabc8da69b",
   "metadata": {},
   "source": [
    "Modeling"
   ]
  },
  {
   "cell_type": "code",
   "execution_count": null,
   "id": "ccf74c22-2e40-4c7f-87c2-2398f8aba3f6",
   "metadata": {},
   "outputs": [],
   "source": []
  },
  {
   "cell_type": "markdown",
   "id": "ade748d2-e06b-406a-92e9-90dd868b909d",
   "metadata": {},
   "source": [
    "Visulization of Modeling"
   ]
  },
  {
   "cell_type": "code",
   "execution_count": null,
   "id": "a3bddd2c-26fa-4ad2-8d0c-4baa83ef8b39",
   "metadata": {},
   "outputs": [],
   "source": []
  },
  {
   "cell_type": "code",
   "execution_count": null,
   "id": "245e4bb5-d74d-4f39-b842-816c407fa2ae",
   "metadata": {},
   "outputs": [],
   "source": []
  },
  {
   "cell_type": "markdown",
   "id": "a319d996-91aa-4770-91e1-877de97a8110",
   "metadata": {},
   "source": [
    "## Discussion"
   ]
  },
  {
   "cell_type": "markdown",
   "id": "69b18cc9-336b-45b1-9c36-7a890dd9c295",
   "metadata": {},
   "source": [
    "summarize what you found\n",
    "\n",
    "-discuss whether this is what you expected to find?\n",
    "\n",
    "-discuss what impact could such findings have?\n",
    "\n",
    "-discuss what future questions could this lead to?"
   ]
  },
  {
   "cell_type": "markdown",
   "id": "f1dd81f9-f209-4f7f-b669-5b5348d74d66",
   "metadata": {},
   "source": [
    "### Summary:"
   ]
  },
  {
   "cell_type": "markdown",
   "id": "441878fc-4272-43f9-88e4-a5bc923503ad",
   "metadata": {},
   "source": [
    "Could this data have been better?"
   ]
  },
  {
   "cell_type": "markdown",
   "id": "66e8841b-329e-4a19-820d-da9d1aab4810",
   "metadata": {},
   "source": [
    "## References"
   ]
  },
  {
   "cell_type": "markdown",
   "id": "a48e7c45-711c-4841-b543-b4f9769fcb15",
   "metadata": {},
   "source": []
  },
  {
   "cell_type": "code",
   "execution_count": null,
   "id": "d6b9f7e6-6007-4c2e-b77c-6471294bdaaf",
   "metadata": {},
   "outputs": [],
   "source": []
  }
 ],
 "metadata": {
  "kernelspec": {
   "display_name": "R",
   "language": "R",
   "name": "ir"
  },
  "language_info": {
   "codemirror_mode": "r",
   "file_extension": ".r",
   "mimetype": "text/x-r-source",
   "name": "R",
   "pygments_lexer": "r",
   "version": "4.3.3"
  }
 },
 "nbformat": 4,
 "nbformat_minor": 5
}
